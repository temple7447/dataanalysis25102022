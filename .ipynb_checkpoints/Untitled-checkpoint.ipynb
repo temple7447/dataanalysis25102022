{
 "cells": [
  {
   "cell_type": "code",
   "execution_count": 41,
   "id": "4d832830",
   "metadata": {},
   "outputs": [
    {
     "data": {
      "text/plain": [
       "array(['Classical', 'HipHop', 'Dance'], dtype=object)"
      ]
     },
     "execution_count": 41,
     "metadata": {},
     "output_type": "execute_result"
    }
   ],
   "source": [
    "import pandas as pd\n",
    "# creating an algorithsm\n",
    "from sklearn.tree import DecisionTreeClassifier\n",
    "# for training and testing\n",
    "from sklearn.model_selection import train_test_split\n",
    "from sklearn.metrics import accuracy_score\n",
    "\n",
    "music_csv= pd.read_csv('music.csv')\n",
    "# input data\n",
    "X= music_csv.drop(columns=['genre'])\n",
    "# output data\n",
    "Y = music_csv['genre']\n",
    "\n",
    "X_Train,X_Test,Y_Train,Y_Test = train_test_split(X,Y, test_size=0.2)\n",
    "\n",
    "mode = DecisionTreeClassifier()\n",
    "mode.fit(X_Train,Y_Train)\n",
    "predictions = mode.predict(X_Test)\n",
    "\n",
    "score = accuracy_score(Y_Test,predictions)"
   ]
  },
  {
   "cell_type": "code",
   "execution_count": null,
   "id": "ad8adb13",
   "metadata": {},
   "outputs": [],
   "source": []
  },
  {
   "cell_type": "code",
   "execution_count": null,
   "id": "38c22604",
   "metadata": {},
   "outputs": [],
   "source": []
  }
 ],
 "metadata": {
  "kernelspec": {
   "display_name": "Python 3 (ipykernel)",
   "language": "python",
   "name": "python3"
  },
  "language_info": {
   "codemirror_mode": {
    "name": "ipython",
    "version": 3
   },
   "file_extension": ".py",
   "mimetype": "text/x-python",
   "name": "python",
   "nbconvert_exporter": "python",
   "pygments_lexer": "ipython3",
   "version": "3.9.7"
  }
 },
 "nbformat": 4,
 "nbformat_minor": 5
}
